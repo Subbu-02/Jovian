{
 "cells": [
  {
   "attachments": {},
   "cell_type": "markdown",
   "id": "5f39ea40",
   "metadata": {},
   "source": [
    "# Two Sum\n",
    "_To learn how to use this template, check out the course [\"Data Structures and Algorithms in Python\"](https://jovian.ai/learn/data-structures-and-algorithms-in-python)._\n",
    "\n",
    "\n"
   ]
  },
  {
   "attachments": {},
   "cell_type": "markdown",
   "id": "11bbb754",
   "metadata": {},
   "source": [
    "## How to run the code and save your work\n",
    "\n",
    "The recommended way to run this notebook is to click the \"Run\" button at the top of this page, and select \"Run on Binder\". This will run the notebook on [mybinder.org](https://mybinder.org), a free online service for running Jupyter notebooks. \n",
    "\n",
    "This tutorial is an executable [Jupyter notebook](https://jupyter.org). You can _run_ this tutorial and experiment with the code examples in a couple of ways: *using free online resources* (recommended) or *on your computer*.\n",
    "\n",
    "#### Option 1: Running using free online resources (1-click, recommended)\n",
    "\n",
    "The easiest way to start executing the code is to click the **Run** button at the top of this page and select **Run on Binder**. You can also select \"Run on Colab\" or \"Run on Kaggle\", but you'll need to create an account on [Google Colab](https://colab.research.google.com) or [Kaggle](https://kaggle.com) to use these platforms.\n",
    "\n",
    "\n",
    "#### Option 2: Running on your computer locally\n",
    "\n",
    "To run the code on your computer locally, you'll need to set up [Python](https://www.python.org), download the notebook and install the required libraries. We recommend using the [Conda](https://docs.conda.io/projects/conda/en/latest/user-guide/install/) distribution of Python. Click the **Run** button at the top of this page, select the **Run Locally** option, and follow the instructions.\n",
    "\n",
    "#### Saving your work\n",
    "\n",
    "Before staring the assignment, let's save a snapshot of the assignment to your [Jovian](https://jovian.ai) profile, so that you can access it later, and continue your work."
   ]
  },
  {
   "cell_type": "code",
   "execution_count": 83,
   "id": "64a55cac",
   "metadata": {},
   "outputs": [],
   "source": [
    "project_name = 'jovian-DSA-project' # give it an appropriate name"
   ]
  },
  {
   "cell_type": "code",
   "execution_count": 84,
   "id": "55aaf6f3",
   "metadata": {},
   "outputs": [
    {
     "name": "stdout",
     "output_type": "stream",
     "text": [
      "Requirement already satisfied: jovian in /Users/subramanianvenkataraman/opt/anaconda3/lib/python3.8/site-packages (0.2.47)\n",
      "Requirement already satisfied: requests in /Users/subramanianvenkataraman/opt/anaconda3/lib/python3.8/site-packages (from jovian) (2.31.0)\n",
      "Requirement already satisfied: uuid in /Users/subramanianvenkataraman/opt/anaconda3/lib/python3.8/site-packages (from jovian) (1.30)\n",
      "Requirement already satisfied: pyyaml in /Users/subramanianvenkataraman/opt/anaconda3/lib/python3.8/site-packages (from jovian) (6.0)\n",
      "Requirement already satisfied: click in /Users/subramanianvenkataraman/opt/anaconda3/lib/python3.8/site-packages (from jovian) (8.0.4)\n",
      "Requirement already satisfied: charset-normalizer<4,>=2 in /Users/subramanianvenkataraman/opt/anaconda3/lib/python3.8/site-packages (from requests->jovian) (2.0.4)\n",
      "Requirement already satisfied: idna<4,>=2.5 in /Users/subramanianvenkataraman/opt/anaconda3/lib/python3.8/site-packages (from requests->jovian) (3.4)\n",
      "Requirement already satisfied: urllib3<3,>=1.21.1 in /Users/subramanianvenkataraman/opt/anaconda3/lib/python3.8/site-packages (from requests->jovian) (1.26.16)\n",
      "Requirement already satisfied: certifi>=2017.4.17 in /Users/subramanianvenkataraman/opt/anaconda3/lib/python3.8/site-packages (from requests->jovian) (2023.7.22)\n"
     ]
    }
   ],
   "source": [
    "!pip install jovian --upgrade"
   ]
  },
  {
   "cell_type": "code",
   "execution_count": 85,
   "id": "8062f873",
   "metadata": {},
   "outputs": [],
   "source": [
    "import jovian"
   ]
  },
  {
   "cell_type": "code",
   "execution_count": 86,
   "id": "2659775f",
   "metadata": {},
   "outputs": [
    {
     "data": {
      "application/javascript": "window.require && require([\"base/js/namespace\"],function(Jupyter){Jupyter.notebook.save_checkpoint()})",
      "text/plain": [
       "<IPython.core.display.Javascript object>"
      ]
     },
     "metadata": {},
     "output_type": "display_data"
    },
    {
     "data": {
      "application/javascript": "if (window.IPython && IPython.notebook.kernel) IPython.notebook.kernel.execute('jovian.utils.jupyter.get_notebook_name_saved = lambda: \"' + IPython.notebook.notebook_name + '\"')",
      "text/plain": [
       "<IPython.core.display.Javascript object>"
      ]
     },
     "metadata": {},
     "output_type": "display_data"
    },
    {
     "name": "stderr",
     "output_type": "stream",
     "text": [
      "\u001b[31m[jovian] Error: Failed to read the Jupyter notebook. Please re-run this cell to try again. If the issue persists, provide the \"filename\" argument to \"jovian.commit\" e.g. \"jovian.commit(filename='my-notebook.ipynb')\"\u001b[0m\n"
     ]
    }
   ],
   "source": [
    "# Execute this to save new versions of the notebook\n",
    "jovian.commit(filename=project_name)"
   ]
  },
  {
   "attachments": {},
   "cell_type": "markdown",
   "id": "ca99e0cb",
   "metadata": {},
   "source": [
    "## Problem Statement\n",
    "\n",
    "\n",
    "### Two Sum\n",
    "\n",
    "Given an array of integers nums and an integer target, return indices of the two numbers such that they add up to target.\n",
    "\n",
    "You may assume that each input would have exactly one solution, and you may not use the same element twice.\n",
    "\n",
    "You can return the answer in any order.\n",
    "\n",
    "\n",
    "Source: <a>https://leetcode.com/problems/two-sum/description/</a> (link to the source)"
   ]
  },
  {
   "attachments": {},
   "cell_type": "markdown",
   "id": "9c8db804",
   "metadata": {},
   "source": [
    "## The Method\n",
    "\n",
    "Here's the systematic strategy we'll apply for solving problems:\n",
    "\n",
    "1. State the problem clearly. Identify the input & output formats.\n",
    "2. Come up with some example inputs & outputs. Try to cover all edge cases.\n",
    "3. Come up with a correct solution for the problem. State it in plain English.\n",
    "4. Implement the solution and test it using example inputs. Fix bugs, if any.\n",
    "5. Analyze the algorithm's complexity and identify inefficiencies, if any.\n",
    "6. Apply the right technique to overcome the inefficiency. Repeat steps 3 to 6.\n",
    "\n",
    "This approach is explained in detail in [Lesson 1](https://jovian.ai/learn/data-structures-and-algorithms-in-python/lesson/lesson-1-binary-search-linked-lists-and-complexity) of the course. Let's apply this approach step-by-step."
   ]
  },
  {
   "attachments": {},
   "cell_type": "markdown",
   "id": "95f5eb8d",
   "metadata": {},
   "source": [
    "## Solution\n",
    "\n",
    "\n",
    "### 1. State the problem clearly. Identify the input & output formats.\n",
    "\n",
    "While this problem is stated clearly enough, it's always useful to try and express in your own words, in a way that makes it most clear for you. \n",
    "\n",
    "\n",
    "**Problem**\n",
    "\n",
    "> Finding the pair by hitting every combination (express the problem clearly in our own words, and in absract terms\n",
    "\n",
    "<br/>\n",
    "\n",
    "<br/>\n",
    "\n",
    "Based on the above, we can now create a signature of our function:"
   ]
  },
  {
   "cell_type": "code",
   "execution_count": 87,
   "id": "d8ecc3c8",
   "metadata": {},
   "outputs": [],
   "source": [
    "# Create a function signature here. The body of the function can contain a single statement: pass\n",
    "def function_name():\n",
    "    pass"
   ]
  },
  {
   "attachments": {},
   "cell_type": "markdown",
   "id": "06b230de",
   "metadata": {},
   "source": [
    "Save and upload your work before continuing."
   ]
  },
  {
   "cell_type": "code",
   "execution_count": 88,
   "id": "98f1a057",
   "metadata": {},
   "outputs": [],
   "source": [
    "import jovian"
   ]
  },
  {
   "cell_type": "code",
   "execution_count": 89,
   "id": "605ee473",
   "metadata": {},
   "outputs": [
    {
     "data": {
      "application/javascript": "window.require && require([\"base/js/namespace\"],function(Jupyter){Jupyter.notebook.save_checkpoint()})",
      "text/plain": [
       "<IPython.core.display.Javascript object>"
      ]
     },
     "metadata": {},
     "output_type": "display_data"
    },
    {
     "data": {
      "application/javascript": "if (window.IPython && IPython.notebook.kernel) IPython.notebook.kernel.execute('jovian.utils.jupyter.get_notebook_name_saved = lambda: \"' + IPython.notebook.notebook_name + '\"')",
      "text/plain": [
       "<IPython.core.display.Javascript object>"
      ]
     },
     "metadata": {},
     "output_type": "display_data"
    },
    {
     "name": "stderr",
     "output_type": "stream",
     "text": [
      "\u001b[31m[jovian] Error: Failed to read the Jupyter notebook. Please re-run this cell to try again. If the issue persists, provide the \"filename\" argument to \"jovian.commit\" e.g. \"jovian.commit(filename='my-notebook.ipynb')\"\u001b[0m\n"
     ]
    }
   ],
   "source": [
    "jovian.commit()"
   ]
  },
  {
   "attachments": {},
   "cell_type": "markdown",
   "id": "31673b31",
   "metadata": {},
   "source": [
    "### 2. Come up with some example inputs & outputs. Try to cover all edge cases.\n",
    "\n",
    "Our function should be able to handle any set of valid inputs we pass into it. Here's a list of some possible variations we might encounter:\n",
    "\n",
    "\n",
    "We'll express our test cases as dictionaries, to test them easily. Each dictionary will contain 2 keys: `input` (a dictionary itself containing one key for each argument to the function and `output` (the expected result from the function). "
   ]
  },
  {
   "cell_type": "code",
   "execution_count": 91,
   "id": "713aa89c",
   "metadata": {},
   "outputs": [],
   "source": [
    "test = {\n",
    "        'input': {\n",
    "            'nums': [2, 7, 11, 15],\n",
    "            'target': 9\n",
    "        },\n",
    "        'output': [0, 1]\n",
    "    }"
   ]
  },
  {
   "attachments": {},
   "cell_type": "markdown",
   "id": "1725ca50",
   "metadata": {},
   "source": [
    "Create one test case for each of the scenarios listed above. We'll store our test cases in an array called `tests`."
   ]
  },
  {
   "cell_type": "code",
   "execution_count": 92,
   "id": "62a176c2",
   "metadata": {},
   "outputs": [],
   "source": [
    "tests = []"
   ]
  },
  {
   "cell_type": "code",
   "execution_count": 93,
   "id": "565c0f85",
   "metadata": {},
   "outputs": [],
   "source": [
    "tests.append(test)"
   ]
  },
  {
   "cell_type": "code",
   "execution_count": 94,
   "id": "24aca8e9",
   "metadata": {},
   "outputs": [],
   "source": [
    "tests.append({\n",
    "        'input': {\n",
    "            'nums': [3, 2, 4],\n",
    "            'target': 6\n",
    "        },\n",
    "        'output': [1, 2]\n",
    "    })"
   ]
  },
  {
   "cell_type": "code",
   "execution_count": 95,
   "id": "e206584c",
   "metadata": {},
   "outputs": [],
   "source": [
    "tests.append({\n",
    "        'input': {\n",
    "            'nums': [3, 3],\n",
    "            'target': 6\n",
    "        },\n",
    "        'output': [0, 1]\n",
    "    })"
   ]
  },
  {
   "cell_type": "code",
   "execution_count": 96,
   "id": "6e9f49e9",
   "metadata": {},
   "outputs": [],
   "source": [
    "tests.append(\n",
    "    {\n",
    "        'input': {\n",
    "            'nums': [0, 4, 3, 0],\n",
    "            'target': 0\n",
    "        },\n",
    "        'output': [0, 3]\n",
    "    })\n",
    "tests.append({\n",
    "        'input': {\n",
    "            'nums': [-1, -2, -3, -4, -5],\n",
    "            'target': -8\n",
    "        },\n",
    "        'output': [2, 4]\n",
    "    }\n",
    ")"
   ]
  },
  {
   "cell_type": "code",
   "execution_count": 97,
   "id": "9b56afcf",
   "metadata": {},
   "outputs": [],
   "source": [
    "tests.append({\n",
    "        'input': {\n",
    "            'nums': [5, 5, 5, 5],\n",
    "            'target': 10\n",
    "        },\n",
    "        'output': [0, 1]\n",
    "    })"
   ]
  },
  {
   "attachments": {},
   "cell_type": "markdown",
   "id": "40713b18",
   "metadata": {},
   "source": [
    "### 3. Come up with a correct solution for the problem. State it in plain English.\n",
    "\n",
    "Our first goal should always be to come up with a _correct_ solution to the problem, which may not necessarily be the most _efficient_ solution. Come with a correct solution and explain it in simple words below:\n",
    "\n",
    "1. Brute force algorithm\n",
    "2. Loop through the array and check if the sum of any two numbers is equal to the target\n",
    "3. If yes, return the indices of the two numbers\n",
    "4. If no, return an empty array\n",
    "5. If the array is empty, return an empty array\n",
    "\n",
    "(add more steps if required)\n",
    "\n",
    "\n",
    "Let's save and upload our work before continuing.\n",
    "\n",
    "\n"
   ]
  },
  {
   "cell_type": "code",
   "execution_count": 98,
   "id": "dd796ae8",
   "metadata": {},
   "outputs": [
    {
     "data": {
      "application/javascript": "window.require && require([\"base/js/namespace\"],function(Jupyter){Jupyter.notebook.save_checkpoint()})",
      "text/plain": [
       "<IPython.core.display.Javascript object>"
      ]
     },
     "metadata": {},
     "output_type": "display_data"
    },
    {
     "data": {
      "application/javascript": "if (window.IPython && IPython.notebook.kernel) IPython.notebook.kernel.execute('jovian.utils.jupyter.get_notebook_name_saved = lambda: \"' + IPython.notebook.notebook_name + '\"')",
      "text/plain": [
       "<IPython.core.display.Javascript object>"
      ]
     },
     "metadata": {},
     "output_type": "display_data"
    },
    {
     "name": "stderr",
     "output_type": "stream",
     "text": [
      "\u001b[31m[jovian] Error: Failed to read the Jupyter notebook. Please re-run this cell to try again. If the issue persists, provide the \"filename\" argument to \"jovian.commit\" e.g. \"jovian.commit(filename='my-notebook.ipynb')\"\u001b[0m\n"
     ]
    }
   ],
   "source": [
    "jovian.commit(filename=\"jovian-DSA-project.ipynb\")"
   ]
  },
  {
   "attachments": {},
   "cell_type": "markdown",
   "id": "d9f9c154",
   "metadata": {},
   "source": [
    "###  4. Implement the solution and test it using example inputs. Fix bugs, if any."
   ]
  },
  {
   "cell_type": "code",
   "execution_count": 99,
   "id": "afcfa032",
   "metadata": {},
   "outputs": [],
   "source": [
    "class Solution:\n",
    "    def twoSum(self, nums, target):\n",
    "        for _ in range(len(nums)):\n",
    "            for i in range(len(nums)-1):\n",
    "                if nums[_]+nums[i+1]==target and _ != i+1:\n",
    "                    return [_,i+1]"
   ]
  },
  {
   "attachments": {},
   "cell_type": "markdown",
   "id": "e81d9696",
   "metadata": {},
   "source": [
    "We can test the function by passing the input to it directly or by using the `evaluate_test_case` function from `jovian`."
   ]
  },
  {
   "cell_type": "code",
   "execution_count": 100,
   "id": "971300a1",
   "metadata": {},
   "outputs": [],
   "source": [
    "from jovian.pythondsa import evaluate_test_case"
   ]
  },
  {
   "cell_type": "code",
   "execution_count": 101,
   "id": "73d9f72a",
   "metadata": {},
   "outputs": [
    {
     "name": "stdout",
     "output_type": "stream",
     "text": [
      "\n",
      "Input:\n",
      "{'nums': [2, 7, 11, 15], 'target': 9}\n",
      "\n",
      "Expected Output:\n",
      "[0, 1]\n",
      "\n",
      "\n",
      "Actual Output:\n",
      "[0, 1]\n",
      "\n",
      "Execution Time:\n",
      "0.004 ms\n",
      "\n",
      "Test Result:\n",
      "\u001b[92mPASSED\u001b[0m\n",
      "\n"
     ]
    },
    {
     "data": {
      "text/plain": [
       "([0, 1], True, 0.004)"
      ]
     },
     "execution_count": 101,
     "metadata": {},
     "output_type": "execute_result"
    }
   ],
   "source": [
    "evaluate_test_case(Solution().twoSum, test)"
   ]
  },
  {
   "attachments": {},
   "cell_type": "markdown",
   "id": "39d81aee",
   "metadata": {},
   "source": [
    "Evaluate your function against all the test cases together using the `evaluate_test_cases` (plural) function from `jovian`."
   ]
  },
  {
   "cell_type": "code",
   "execution_count": 102,
   "id": "1d14bb96",
   "metadata": {},
   "outputs": [],
   "source": [
    "from jovian.pythondsa import evaluate_test_cases"
   ]
  },
  {
   "cell_type": "code",
   "execution_count": 103,
   "id": "4743c261",
   "metadata": {},
   "outputs": [
    {
     "name": "stdout",
     "output_type": "stream",
     "text": [
      "\n",
      "\u001b[1mTEST CASE #0\u001b[0m\n",
      "\n",
      "Input:\n",
      "{'nums': [2, 7, 11, 15], 'target': 9}\n",
      "\n",
      "Expected Output:\n",
      "[0, 1]\n",
      "\n",
      "\n",
      "Actual Output:\n",
      "[0, 1]\n",
      "\n",
      "Execution Time:\n",
      "0.004 ms\n",
      "\n",
      "Test Result:\n",
      "\u001b[92mPASSED\u001b[0m\n",
      "\n",
      "\n",
      "\u001b[1mTEST CASE #1\u001b[0m\n",
      "\n",
      "Input:\n",
      "{'nums': [3, 2, 4], 'target': 6}\n",
      "\n",
      "Expected Output:\n",
      "[1, 2]\n",
      "\n",
      "\n",
      "Actual Output:\n",
      "[1, 2]\n",
      "\n",
      "Execution Time:\n",
      "0.003 ms\n",
      "\n",
      "Test Result:\n",
      "\u001b[92mPASSED\u001b[0m\n",
      "\n",
      "\n",
      "\u001b[1mTEST CASE #2\u001b[0m\n",
      "\n",
      "Input:\n",
      "{'nums': [3, 3], 'target': 6}\n",
      "\n",
      "Expected Output:\n",
      "[0, 1]\n",
      "\n",
      "\n",
      "Actual Output:\n",
      "[0, 1]\n",
      "\n",
      "Execution Time:\n",
      "0.002 ms\n",
      "\n",
      "Test Result:\n",
      "\u001b[92mPASSED\u001b[0m\n",
      "\n",
      "\n",
      "\u001b[1mTEST CASE #3\u001b[0m\n",
      "\n",
      "Input:\n",
      "{'nums': [0, 4, 3, 0], 'target': 0}\n",
      "\n",
      "Expected Output:\n",
      "[0, 3]\n",
      "\n",
      "\n",
      "Actual Output:\n",
      "[0, 3]\n",
      "\n",
      "Execution Time:\n",
      "0.002 ms\n",
      "\n",
      "Test Result:\n",
      "\u001b[92mPASSED\u001b[0m\n",
      "\n",
      "\n",
      "\u001b[1mTEST CASE #4\u001b[0m\n",
      "\n",
      "Input:\n",
      "{'nums': [-1, -2, -3, -4, -5], 'target': -8}\n",
      "\n",
      "Expected Output:\n",
      "[2, 4]\n",
      "\n",
      "\n",
      "Actual Output:\n",
      "[2, 4]\n",
      "\n",
      "Execution Time:\n",
      "0.004 ms\n",
      "\n",
      "Test Result:\n",
      "\u001b[92mPASSED\u001b[0m\n",
      "\n",
      "\n",
      "\u001b[1mTEST CASE #5\u001b[0m\n",
      "\n",
      "Input:\n",
      "{'nums': [5, 5, 5, 5], 'target': 10}\n",
      "\n",
      "Expected Output:\n",
      "[0, 1]\n",
      "\n",
      "\n",
      "Actual Output:\n",
      "[0, 1]\n",
      "\n",
      "Execution Time:\n",
      "0.004 ms\n",
      "\n",
      "Test Result:\n",
      "\u001b[92mPASSED\u001b[0m\n",
      "\n",
      "\n",
      "\u001b[1mSUMMARY\u001b[0m\n",
      "\n",
      "TOTAL: 6, \u001b[92mPASSED\u001b[0m: 6, \u001b[91mFAILED\u001b[0m: 0\n"
     ]
    },
    {
     "data": {
      "text/plain": [
       "[([0, 1], True, 0.004),\n",
       " ([1, 2], True, 0.003),\n",
       " ([0, 1], True, 0.002),\n",
       " ([0, 3], True, 0.002),\n",
       " ([2, 4], True, 0.004),\n",
       " ([0, 1], True, 0.004)]"
      ]
     },
     "execution_count": 103,
     "metadata": {},
     "output_type": "execute_result"
    }
   ],
   "source": [
    "evaluate_test_cases(Solution().twoSum, tests)"
   ]
  },
  {
   "attachments": {},
   "cell_type": "markdown",
   "id": "a0d8d817",
   "metadata": {},
   "source": [
    "Verify that all the test cases were evaluated. We expect them all to fail, since we haven't implemented the function yet.\n",
    "\n",
    "Let's save our work before continuing."
   ]
  },
  {
   "cell_type": "code",
   "execution_count": 75,
   "id": "3cff5b65",
   "metadata": {},
   "outputs": [
    {
     "data": {
      "application/javascript": "window.require && require([\"base/js/namespace\"],function(Jupyter){Jupyter.notebook.save_checkpoint()})",
      "text/plain": [
       "<IPython.core.display.Javascript object>"
      ]
     },
     "metadata": {},
     "output_type": "display_data"
    },
    {
     "data": {
      "application/javascript": "if (window.IPython && IPython.notebook.kernel) IPython.notebook.kernel.execute('jovian.utils.jupyter.get_notebook_name_saved = lambda: \"' + IPython.notebook.notebook_name + '\"')",
      "text/plain": [
       "<IPython.core.display.Javascript object>"
      ]
     },
     "metadata": {},
     "output_type": "display_data"
    },
    {
     "name": "stderr",
     "output_type": "stream",
     "text": [
      "\u001b[31m[jovian] Error: Failed to read the Jupyter notebook. Please re-run this cell to try again. If the issue persists, provide the \"filename\" argument to \"jovian.commit\" e.g. \"jovian.commit(filename='my-notebook.ipynb')\"\u001b[0m\n"
     ]
    }
   ],
   "source": [
    "jovian.commit()"
   ]
  },
  {
   "cell_type": "code",
   "execution_count": null,
   "id": "919ff98e",
   "metadata": {},
   "outputs": [],
   "source": []
  },
  {
   "attachments": {},
   "cell_type": "markdown",
   "id": "04b9887f",
   "metadata": {},
   "source": [
    "### 5. Analyze the algorithm's complexity and identify inefficiencies, if any."
   ]
  },
  {
   "cell_type": "code",
   "execution_count": 106,
   "id": "b415850b",
   "metadata": {},
   "outputs": [],
   "source": [
    "basic_time_complexity = 'O(n^2)'"
   ]
  },
  {
   "cell_type": "code",
   "execution_count": 107,
   "id": "80416b0b",
   "metadata": {},
   "outputs": [],
   "source": [
    "basic_space_complexity = 'O(1)'"
   ]
  },
  {
   "cell_type": "code",
   "execution_count": 21,
   "id": "e8f990ac",
   "metadata": {},
   "outputs": [
    {
     "data": {
      "application/javascript": "window.require && require([\"base/js/namespace\"],function(Jupyter){Jupyter.notebook.save_checkpoint()})",
      "text/plain": [
       "<IPython.core.display.Javascript object>"
      ]
     },
     "metadata": {},
     "output_type": "display_data"
    },
    {
     "name": "stdout",
     "output_type": "stream",
     "text": [
      "[jovian] Attempting to save notebook..\u001b[0m\n",
      "[jovian] Updating notebook \"aakashns/python-problem-solving-template\" on https://jovian.ai/\u001b[0m\n",
      "[jovian] Uploading notebook..\u001b[0m\n",
      "[jovian] Capturing environment..\u001b[0m\n",
      "[jovian] Committed successfully! https://jovian.ai/aakashns/python-problem-solving-template\u001b[0m\n"
     ]
    },
    {
     "data": {
      "text/plain": [
       "'https://jovian.ai/aakashns/python-problem-solving-template'"
      ]
     },
     "execution_count": 21,
     "metadata": {},
     "output_type": "execute_result"
    }
   ],
   "source": [
    "jovian.commit()"
   ]
  },
  {
   "attachments": {},
   "cell_type": "markdown",
   "id": "8088e702",
   "metadata": {},
   "source": [
    "### 6. Apply the right technique to overcome the inefficiency. Repeat steps 3 to 6."
   ]
  },
  {
   "cell_type": "code",
   "execution_count": null,
   "id": "03d0a0b7",
   "metadata": {},
   "outputs": [],
   "source": []
  },
  {
   "cell_type": "code",
   "execution_count": null,
   "id": "efbe4676",
   "metadata": {},
   "outputs": [],
   "source": []
  },
  {
   "cell_type": "code",
   "execution_count": 20,
   "id": "ea8e2a10",
   "metadata": {},
   "outputs": [
    {
     "data": {
      "application/javascript": "window.require && require([\"base/js/namespace\"],function(Jupyter){Jupyter.notebook.save_checkpoint()})",
      "text/plain": [
       "<IPython.core.display.Javascript object>"
      ]
     },
     "metadata": {},
     "output_type": "display_data"
    },
    {
     "name": "stdout",
     "output_type": "stream",
     "text": [
      "[jovian] Attempting to save notebook..\u001b[0m\n",
      "[jovian] Updating notebook \"aakashns/python-problem-solving-template\" on https://jovian.ai/\u001b[0m\n",
      "[jovian] Uploading notebook..\u001b[0m\n",
      "[jovian] Capturing environment..\u001b[0m\n",
      "[jovian] Committed successfully! https://jovian.ai/aakashns/python-problem-solving-template\u001b[0m\n"
     ]
    },
    {
     "data": {
      "text/plain": [
       "'https://jovian.ai/aakashns/python-problem-solving-template'"
      ]
     },
     "execution_count": 20,
     "metadata": {},
     "output_type": "execute_result"
    }
   ],
   "source": [
    "jovian.commit()"
   ]
  },
  {
   "attachments": {},
   "cell_type": "markdown",
   "id": "4be76198",
   "metadata": {},
   "source": [
    "### 7. Come up with a correct solution for the problem. State it in plain English.\n",
    "\n",
    "Come with the optimized correct solution and explain it in simple words below:\n",
    "\n",
    "1. Hash table\n",
    "2. Loop through the array and check if the difference between the target and the current number is in the hash table\n",
    "3. If yes, return the indices of the two numbers\n",
    "4. If no, add the current number to the hash table\n",
    "5. If the array is empty, return an empty array\n",
    "\n",
    "\n",
    "Let's save and upload our work before continuing.\n",
    "\n"
   ]
  },
  {
   "cell_type": "code",
   "execution_count": 19,
   "id": "986da128",
   "metadata": {},
   "outputs": [
    {
     "data": {
      "application/javascript": "window.require && require([\"base/js/namespace\"],function(Jupyter){Jupyter.notebook.save_checkpoint()})",
      "text/plain": [
       "<IPython.core.display.Javascript object>"
      ]
     },
     "metadata": {},
     "output_type": "display_data"
    },
    {
     "name": "stdout",
     "output_type": "stream",
     "text": [
      "[jovian] Attempting to save notebook..\u001b[0m\n",
      "[jovian] Updating notebook \"aakashns/python-problem-solving-template\" on https://jovian.ai/\u001b[0m\n",
      "[jovian] Uploading notebook..\u001b[0m\n",
      "[jovian] Capturing environment..\u001b[0m\n",
      "[jovian] Committed successfully! https://jovian.ai/aakashns/python-problem-solving-template\u001b[0m\n"
     ]
    },
    {
     "data": {
      "text/plain": [
       "'https://jovian.ai/aakashns/python-problem-solving-template'"
      ]
     },
     "execution_count": 19,
     "metadata": {},
     "output_type": "execute_result"
    }
   ],
   "source": [
    "jovian.commit()"
   ]
  },
  {
   "cell_type": "code",
   "execution_count": null,
   "id": "5a496146",
   "metadata": {},
   "outputs": [],
   "source": []
  },
  {
   "cell_type": "code",
   "execution_count": null,
   "id": "89493368",
   "metadata": {},
   "outputs": [],
   "source": []
  },
  {
   "cell_type": "code",
   "execution_count": null,
   "id": "2c28690e",
   "metadata": {},
   "outputs": [],
   "source": []
  },
  {
   "attachments": {},
   "cell_type": "markdown",
   "id": "98af8600",
   "metadata": {},
   "source": [
    "### 8. Implement the solution and test it using example inputs. Fix bugs, if any."
   ]
  },
  {
   "cell_type": "code",
   "execution_count": 108,
   "id": "4bb14f0a",
   "metadata": {},
   "outputs": [],
   "source": [
    "class Solution_elegant:\n",
    "    def twoSum(self, nums, target):\n",
    "        dict={}\n",
    "        for i,n in enumerate(nums):\n",
    "            if n in dict:\n",
    "                return [dict[n],i]\n",
    "            else:\n",
    "                dict[target-n]=i"
   ]
  },
  {
   "cell_type": "code",
   "execution_count": 109,
   "id": "ca1e893a",
   "metadata": {},
   "outputs": [
    {
     "name": "stdout",
     "output_type": "stream",
     "text": [
      "\n",
      "\u001b[1mTEST CASE #0\u001b[0m\n",
      "\n",
      "Input:\n",
      "{'nums': [2, 7, 11, 15], 'target': 9}\n",
      "\n",
      "Expected Output:\n",
      "[0, 1]\n",
      "\n",
      "\n",
      "Actual Output:\n",
      "[0, 1]\n",
      "\n",
      "Execution Time:\n",
      "0.004 ms\n",
      "\n",
      "Test Result:\n",
      "\u001b[92mPASSED\u001b[0m\n",
      "\n",
      "\n",
      "\u001b[1mTEST CASE #1\u001b[0m\n",
      "\n",
      "Input:\n",
      "{'nums': [3, 2, 4], 'target': 6}\n",
      "\n",
      "Expected Output:\n",
      "[1, 2]\n",
      "\n",
      "\n",
      "Actual Output:\n",
      "[1, 2]\n",
      "\n",
      "Execution Time:\n",
      "0.006 ms\n",
      "\n",
      "Test Result:\n",
      "\u001b[92mPASSED\u001b[0m\n",
      "\n",
      "\n",
      "\u001b[1mTEST CASE #2\u001b[0m\n",
      "\n",
      "Input:\n",
      "{'nums': [3, 3], 'target': 6}\n",
      "\n",
      "Expected Output:\n",
      "[0, 1]\n",
      "\n",
      "\n",
      "Actual Output:\n",
      "[0, 1]\n",
      "\n",
      "Execution Time:\n",
      "0.002 ms\n",
      "\n",
      "Test Result:\n",
      "\u001b[92mPASSED\u001b[0m\n",
      "\n",
      "\n",
      "\u001b[1mTEST CASE #3\u001b[0m\n",
      "\n",
      "Input:\n",
      "{'nums': [0, 4, 3, 0], 'target': 0}\n",
      "\n",
      "Expected Output:\n",
      "[0, 3]\n",
      "\n",
      "\n",
      "Actual Output:\n",
      "[0, 3]\n",
      "\n",
      "Execution Time:\n",
      "0.002 ms\n",
      "\n",
      "Test Result:\n",
      "\u001b[92mPASSED\u001b[0m\n",
      "\n",
      "\n",
      "\u001b[1mTEST CASE #4\u001b[0m\n",
      "\n",
      "Input:\n",
      "{'nums': [-1, -2, -3, -4, -5], 'target': -8}\n",
      "\n",
      "Expected Output:\n",
      "[2, 4]\n",
      "\n",
      "\n",
      "Actual Output:\n",
      "[2, 4]\n",
      "\n",
      "Execution Time:\n",
      "0.002 ms\n",
      "\n",
      "Test Result:\n",
      "\u001b[92mPASSED\u001b[0m\n",
      "\n",
      "\n",
      "\u001b[1mTEST CASE #5\u001b[0m\n",
      "\n",
      "Input:\n",
      "{'nums': [5, 5, 5, 5], 'target': 10}\n",
      "\n",
      "Expected Output:\n",
      "[0, 1]\n",
      "\n",
      "\n",
      "Actual Output:\n",
      "[0, 1]\n",
      "\n",
      "Execution Time:\n",
      "0.003 ms\n",
      "\n",
      "Test Result:\n",
      "\u001b[92mPASSED\u001b[0m\n",
      "\n",
      "\n",
      "\u001b[1mSUMMARY\u001b[0m\n",
      "\n",
      "TOTAL: 6, \u001b[92mPASSED\u001b[0m: 6, \u001b[91mFAILED\u001b[0m: 0\n"
     ]
    },
    {
     "data": {
      "text/plain": [
       "[([0, 1], True, 0.004),\n",
       " ([1, 2], True, 0.006),\n",
       " ([0, 1], True, 0.002),\n",
       " ([0, 3], True, 0.002),\n",
       " ([2, 4], True, 0.002),\n",
       " ([0, 1], True, 0.003)]"
      ]
     },
     "execution_count": 109,
     "metadata": {},
     "output_type": "execute_result"
    }
   ],
   "source": [
    "evaluate_test_cases(Solution_elegant().twoSum, tests)"
   ]
  },
  {
   "cell_type": "code",
   "execution_count": null,
   "id": "fa7902ce",
   "metadata": {},
   "outputs": [],
   "source": []
  },
  {
   "cell_type": "code",
   "execution_count": null,
   "id": "75b4b3b3",
   "metadata": {},
   "outputs": [],
   "source": []
  },
  {
   "attachments": {},
   "cell_type": "markdown",
   "id": "eddb576a",
   "metadata": {},
   "source": [
    "### 9. Analyze the algorithm's complexity and identify inefficiencies, if any."
   ]
  },
  {
   "cell_type": "code",
   "execution_count": 110,
   "id": "1421871c",
   "metadata": {},
   "outputs": [],
   "source": [
    "optimized_time_complexity = 'O(n)'"
   ]
  },
  {
   "cell_type": "code",
   "execution_count": 111,
   "id": "032ace1f",
   "metadata": {},
   "outputs": [],
   "source": [
    "optimized_space_complexity = 'O(n)'"
   ]
  },
  {
   "cell_type": "code",
   "execution_count": null,
   "id": "7035505c",
   "metadata": {},
   "outputs": [],
   "source": []
  },
  {
   "attachments": {},
   "cell_type": "markdown",
   "id": "d832a399",
   "metadata": {},
   "source": [
    "If you found the problem on an external platform, you can make a submission to test your solution.\n",
    "\n",
    "Share your approach and start a discussion on the Jovian forum: https://jovian.ai/forum/c/data-structures-and-algorithms-in-python/78"
   ]
  },
  {
   "cell_type": "code",
   "execution_count": 112,
   "id": "2458c745",
   "metadata": {},
   "outputs": [
    {
     "data": {
      "application/javascript": "window.require && require([\"base/js/namespace\"],function(Jupyter){Jupyter.notebook.save_checkpoint()})",
      "text/plain": [
       "<IPython.core.display.Javascript object>"
      ]
     },
     "metadata": {},
     "output_type": "display_data"
    },
    {
     "data": {
      "application/javascript": "if (window.IPython && IPython.notebook.kernel) IPython.notebook.kernel.execute('jovian.utils.jupyter.get_notebook_name_saved = lambda: \"' + IPython.notebook.notebook_name + '\"')",
      "text/plain": [
       "<IPython.core.display.Javascript object>"
      ]
     },
     "metadata": {},
     "output_type": "display_data"
    },
    {
     "name": "stderr",
     "output_type": "stream",
     "text": [
      "\u001b[31m[jovian] Error: Failed to read the Jupyter notebook. Please re-run this cell to try again. If the issue persists, provide the \"filename\" argument to \"jovian.commit\" e.g. \"jovian.commit(filename='my-notebook.ipynb')\"\u001b[0m\n"
     ]
    }
   ],
   "source": [
    "jovian.commit(filename=\"jovian-DSA-project\")"
   ]
  },
  {
   "cell_type": "code",
   "execution_count": null,
   "id": "44d9d0b7",
   "metadata": {},
   "outputs": [],
   "source": []
  }
 ],
 "metadata": {
  "kernelspec": {
   "display_name": "base",
   "language": "python",
   "name": "python3"
  },
  "language_info": {
   "codemirror_mode": {
    "name": "ipython",
    "version": 3
   },
   "file_extension": ".py",
   "mimetype": "text/x-python",
   "name": "python",
   "nbconvert_exporter": "python",
   "pygments_lexer": "ipython3",
   "version": "3.8.17"
  }
 },
 "nbformat": 4,
 "nbformat_minor": 5
}
